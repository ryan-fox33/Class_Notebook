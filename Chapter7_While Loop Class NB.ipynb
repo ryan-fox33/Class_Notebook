{
 "cells": [
  {
   "cell_type": "markdown",
   "metadata": {},
   "source": [
    "# While Loop\n",
    "* The for loop takes a collection of items and executes a block of code once for each item in the collection. \n",
    "* In contrast, the while loop runs as long as, or while, a certain condition is true."
   ]
  },
  {
   "cell_type": "markdown",
   "metadata": {},
   "source": [
    "## The while Loop in Action\n",
    "You can use a while loop to count up through a series of numbers. For\n",
    "example, the following while loop counts from 1 to 5:\n"
   ]
  },
  {
   "cell_type": "code",
   "execution_count": null,
   "metadata": {},
   "outputs": [],
   "source": []
  },
  {
   "cell_type": "code",
   "execution_count": null,
   "metadata": {},
   "outputs": [],
   "source": []
  },
  {
   "cell_type": "markdown",
   "metadata": {},
   "source": [
    "## Letting the User Choose When to Quit"
   ]
  },
  {
   "cell_type": "code",
   "execution_count": 1,
   "metadata": {},
   "outputs": [
    {
     "ename": "SyntaxError",
     "evalue": "invalid syntax (950172528.py, line 2)",
     "output_type": "error",
     "traceback": [
      "\u001b[1;36m  Input \u001b[1;32mIn [1]\u001b[1;36m\u001b[0m\n\u001b[1;33m    message=\u001b[0m\n\u001b[1;37m            ^\u001b[0m\n\u001b[1;31mSyntaxError\u001b[0m\u001b[1;31m:\u001b[0m invalid syntax\n"
     ]
    }
   ],
   "source": [
    "prompt= \"Tell me something and I will repeat it back to you. Type quit to end the program\"\n",
    "message="
   ]
  },
  {
   "cell_type": "markdown",
   "metadata": {},
   "source": [
    "## A Flag"
   ]
  },
  {
   "cell_type": "code",
   "execution_count": null,
   "metadata": {},
   "outputs": [],
   "source": [
    "prompt= \"Echo the code. Type quit to end the program: \"\n",
    "# flag \n",
    "message=\" \"\n",
    "active= True\n",
    "while active: \n",
    "    message=input(prompt)\n",
    "    if message=='quit':\n",
    "        active=False\n",
    "    else:\n",
    "        print(message)\n"
   ]
  },
  {
   "cell_type": "markdown",
   "metadata": {
    "slideshow": {
     "slide_type": "subslide"
    }
   },
   "source": [
    "### For a program that should run only as long as many conditions are true, you can define one variable that determines whether or not the entire program is active. This variable, called a `flag`, acts as a signal to the program."
   ]
  },
  {
   "cell_type": "code",
   "execution_count": null,
   "metadata": {},
   "outputs": [],
   "source": []
  },
  {
   "cell_type": "code",
   "execution_count": null,
   "metadata": {},
   "outputs": [],
   "source": []
  },
  {
   "cell_type": "markdown",
   "metadata": {},
   "source": [
    "## Using break to Exit a Loop\n",
    "To exit a while loop immediately without running any remaining code in the\n",
    "loop, regardless of the results of any conditional test, use the break statement."
   ]
  },
  {
   "cell_type": "code",
   "execution_count": null,
   "metadata": {},
   "outputs": [
    {
     "name": "stdout",
     "output_type": "stream",
     "text": [
      "Enter the name of the cities you want to visit. Enter quit to end program: louisville\n",
      "I would love to go Louisville\n"
     ]
    }
   ],
   "source": [
    "prompt=\"Enter the name of the cities you want to visit. Enter quit to end program: \"\n",
    "active= True\n",
    "while active:\n",
    "    city=input(prompt)\n",
    "    if city=='quit':\n",
    "        break\n",
    "    else:\n",
    "        print(\"I would love to go\", city.title())"
   ]
  },
  {
   "cell_type": "code",
   "execution_count": null,
   "metadata": {},
   "outputs": [],
   "source": []
  },
  {
   "cell_type": "markdown",
   "metadata": {},
   "source": [
    "### Guess the number"
   ]
  },
  {
   "cell_type": "code",
   "execution_count": null,
   "metadata": {},
   "outputs": [],
   "source": [
    "prompt=\"Guess a number between 1 and 10: \"\n",
    "active= True\n",
    "while active:\n",
    "    number=int(input(prompt))\n",
    "    if number==6:\n",
    "        print('You have guessed correctly')\n",
    "        break\n",
    "    elif number>6:\n",
    "        print('guess a lower number.')\n",
    "    else:\n",
    "        print('Guess a higher number.')"
   ]
  },
  {
   "cell_type": "code",
   "execution_count": null,
   "metadata": {},
   "outputs": [],
   "source": []
  },
  {
   "cell_type": "markdown",
   "metadata": {},
   "source": [
    "### Guess the number with proper direction"
   ]
  },
  {
   "cell_type": "code",
   "execution_count": null,
   "metadata": {},
   "outputs": [],
   "source": []
  },
  {
   "cell_type": "code",
   "execution_count": null,
   "metadata": {},
   "outputs": [],
   "source": []
  },
  {
   "cell_type": "markdown",
   "metadata": {},
   "source": [
    "### Break with for loop"
   ]
  },
  {
   "cell_type": "code",
   "execution_count": null,
   "metadata": {},
   "outputs": [],
   "source": [
    "for number in range(1,101):\n",
    "    if number==40:\n",
    "        break\n",
    "    print(number, end=\" \")"
   ]
  },
  {
   "cell_type": "code",
   "execution_count": null,
   "metadata": {},
   "outputs": [],
   "source": []
  },
  {
   "cell_type": "markdown",
   "metadata": {},
   "source": [
    "### Using continue in a Loop\n",
    "- Rather than breaking out of a loop entirely without executing the rest of its code, \n",
    "- you can use the continue statement to return to the beginning of the loop based on the result of a conditional test. \n",
    "- For example, consider a loop that counts from 1 to 10 but prints only the odd numbers in that range:"
   ]
  },
  {
   "cell_type": "code",
   "execution_count": null,
   "metadata": {},
   "outputs": [],
   "source": [
    "for number in range(1,101):\n",
    "    if number==40:\n",
    "        continue\n",
    "    print(number, end=\" \")"
   ]
  },
  {
   "cell_type": "code",
   "execution_count": null,
   "metadata": {},
   "outputs": [],
   "source": []
  },
  {
   "cell_type": "markdown",
   "metadata": {},
   "source": [
    "### consider a loop (while/for) that counts from 10 to 20 but prints only the even numbers in that range, use continue statement:"
   ]
  },
  {
   "cell_type": "code",
   "execution_count": null,
   "metadata": {},
   "outputs": [],
   "source": [
    "for number in range(10,21):\n",
    "    if number%2!=0:\n",
    "        continue \n",
    "    else:\n",
    "        print(number)"
   ]
  },
  {
   "cell_type": "code",
   "execution_count": null,
   "metadata": {},
   "outputs": [],
   "source": [
    "#printing 20 natural numbers\n",
    "number=1\n",
    "while number<21:\n",
    "   \n",
    "    print(number)\n",
    "    number+=1\n",
    "    "
   ]
  },
  {
   "cell_type": "markdown",
   "metadata": {},
   "source": [
    "### Avoiding Infinite Loops"
   ]
  },
  {
   "cell_type": "code",
   "execution_count": null,
   "metadata": {},
   "outputs": [],
   "source": []
  },
  {
   "cell_type": "code",
   "execution_count": null,
   "metadata": {},
   "outputs": [],
   "source": []
  },
  {
   "cell_type": "markdown",
   "metadata": {},
   "source": [
    "### Movie Tickets: A movie theater charges different ticket prices depending on a person’s age. \n",
    "- If a person is under the age of 3, the ticket is free; if they are between 3 and 12, the ticket is 10 dollar\n",
    "- if they are over age 12, the ticket is 15 dollar. \n",
    "Write a while loop in which you ask users their age, and then tell them the cost of their movie ticket."
   ]
  },
  {
   "cell_type": "code",
   "execution_count": null,
   "metadata": {},
   "outputs": [],
   "source": [
    "prompt=\"How old are you? Enter quit when you are finished: \"\n",
    "while True:\n",
    "    age=input(prompt)\n",
    "    if age=='quit':\n",
    "        break \n",
    "    age=int(age)\n",
    "    if age<3:\n",
    "        print('You can get in for free!')\n",
    "    elif age < 13:\n",
    "        print('your ticket is $10')\n",
    "    else:\n",
    "        print('your ticket is $15')\n",
    "    "
   ]
  },
  {
   "cell_type": "code",
   "execution_count": null,
   "metadata": {},
   "outputs": [],
   "source": []
  },
  {
   "cell_type": "markdown",
   "metadata": {},
   "source": [
    "## Using a while Loop with Lists and Dictionaries"
   ]
  },
  {
   "cell_type": "markdown",
   "metadata": {},
   "source": [
    "### Moving Items from One List to Another"
   ]
  },
  {
   "cell_type": "code",
   "execution_count": 5,
   "metadata": {},
   "outputs": [
    {
     "name": "stdout",
     "output_type": "stream",
     "text": [
      "Verifying user:  Candace\n",
      "Verifying user:  Brian\n",
      "Verifying user:  Alice\n",
      "Confirmed users:  ['candace', 'Brian', 'Alice']\n",
      "The following users have been confirmed: \n",
      "['candace', 'Brian', 'Alice']\n",
      "['candace', 'Brian', 'Alice']\n",
      "['candace', 'Brian', 'Alice']\n"
     ]
    }
   ],
   "source": [
    "unconfirmed_users=['Alice', 'Brian', 'candace']\n",
    "confirmed_users=[]\n",
    "#verify each user until there are no more unconfirmed users. \n",
    "# Move each verfied user into the list confirmed user \n",
    "while unconfirmed_users:\n",
    "    current_user=unconfirmed_users.pop()\n",
    "    print(\"Verifying user: \", current_user.title())\n",
    "    confirmed_users.append(current_user)\n",
    "print('Confirmed users: ', confirmed_users)\n",
    "\n",
    "#Display all confirmed users \n",
    "print(\"The following users have been confirmed: \")\n",
    "for users in confirmed_users:\n",
    "    print(confirmed_users)"
   ]
  },
  {
   "cell_type": "code",
   "execution_count": null,
   "metadata": {},
   "outputs": [],
   "source": []
  },
  {
   "cell_type": "markdown",
   "metadata": {},
   "source": [
    "### Removing All Instances of Specific Values from a List"
   ]
  },
  {
   "cell_type": "code",
   "execution_count": 6,
   "metadata": {},
   "outputs": [
    {
     "name": "stdout",
     "output_type": "stream",
     "text": [
      "['dog', 'dog', 'goldfish', 'rabbit']\n"
     ]
    }
   ],
   "source": [
    "pets= ['dog','cat','dog','goldfish','cat','rabbit','cat',]\n",
    "while 'cat' in pets:\n",
    "    pets.remove('cat')\n",
    "\n",
    "print(pets)"
   ]
  },
  {
   "cell_type": "code",
   "execution_count": null,
   "metadata": {},
   "outputs": [],
   "source": []
  },
  {
   "cell_type": "markdown",
   "metadata": {},
   "source": [
    "### Filling a Dictionary with User Input"
   ]
  },
  {
   "cell_type": "code",
   "execution_count": 10,
   "metadata": {},
   "outputs": [
    {
     "name": "stdout",
     "output_type": "stream",
     "text": [
      "Enter your name: Ryan\n",
      "Which country do you want to visit?: Italy\n",
      "Would you like to let another person respond? (yes/no): yes\n",
      "Enter your name: Bailey \n",
      "Which country do you want to visit?: Australia \n",
      "Would you like to let another person respond? (yes/no): no\n",
      "---Poll results---\n",
      "RyanWould like to visitItaly\n",
      "Bailey Would like to visitAustralia \n"
     ]
    }
   ],
   "source": [
    "responses={}\n",
    "#set a flag to true \n",
    "polling_active=True\n",
    "while polling_active:\n",
    "    name= input(\"Enter your name: \")\n",
    "    place=input(\"Which country do you want to visit?: \")\n",
    "   \n",
    "    #store the input in the dictionary\n",
    "    responses[name]=place\n",
    "    \n",
    "    #find out if anyone else is going to take the poll \n",
    "    repeat=input(\"Would you like to let another person respond? (yes/no): \")\n",
    "    if repeat=='no':\n",
    "        polling_active=False\n",
    "        \n",
    "#polling complete display the result \n",
    "print(\"---Poll results---\")\n",
    "for name, place in responses.items():\n",
    "    print(name + \"Would like to visit \" + place)"
   ]
  },
  {
   "cell_type": "markdown",
   "metadata": {},
   "source": [
    "## Create a dictionary with you name and your favorite food. You can add more entries into the dictionary and print the dictionary "
   ]
  },
  {
   "cell_type": "code",
   "execution_count": 12,
   "metadata": {},
   "outputs": [
    {
     "name": "stdout",
     "output_type": "stream",
     "text": [
      "Enter your name: Ryan \n",
      "Enter your favorite food: Steak\n",
      "Would you like to let another person respond? (yes/no): yes\n",
      "Enter your name: Bailey\n",
      "Enter your favorite food: Pasta\n",
      "Would you like to let another person respond? (yes/no): no\n",
      "---Food results---\n",
      "Steakis Ryan Favorite food\n",
      "Pastais BaileyFavorite food\n"
     ]
    }
   ],
   "source": [
    "responses={} \n",
    "Food_active=True\n",
    "while Food_active:\n",
    "    name= input(\"Enter your name: \")\n",
    "    food= input('Enter your favorite food: ')\n",
    "\n",
    "    responses[name]=food\n",
    "     \n",
    "    repeat=input(\"Would you like to let another person respond? (yes/no): \")\n",
    "    if repeat=='no':\n",
    "        Food_active=False\n",
    "         \n",
    "print(\"---Food results---\")\n",
    "for name, food in responses.items():\n",
    "    print(food + 'is '+name +\"Favorite food\")"
   ]
  },
  {
   "cell_type": "code",
   "execution_count": null,
   "metadata": {},
   "outputs": [],
   "source": []
  },
  {
   "cell_type": "code",
   "execution_count": null,
   "metadata": {},
   "outputs": [],
   "source": []
  },
  {
   "cell_type": "markdown",
   "metadata": {},
   "source": [
    "## Deli: Make a list called sandwich_orders and fill it with the names of various sandwiches. \n",
    "- Then make an empty list called finished_sandwiches. \n",
    "- Loop through the list of sandwich orders and print a message for each order, such as I made your tuna sandwich. \n",
    "- As each sandwich is made, move it to the list of finished sandwiches. \n",
    "- After all the sandwiches have been made, print a message listing each sandwich that was made."
   ]
  },
  {
   "cell_type": "code",
   "execution_count": 7,
   "metadata": {},
   "outputs": [
    {
     "name": "stdout",
     "output_type": "stream",
     "text": [
      "I'm working on your sandwich:  BltSandwich\n",
      "I'm working on your sandwich:  TurkeySandwich\n",
      "I'm working on your sandwich:  HamSandwich\n",
      "The following sanwiches have been completed: \n",
      "Finished sadnwich:  ['BLT', 'turkey', 'ham']\n",
      "Finished sadnwich:  ['BLT', 'turkey', 'ham']\n",
      "Finished sadnwich:  ['BLT', 'turkey', 'ham']\n"
     ]
    }
   ],
   "source": [
    "sandwich_orders=[\"ham\",\"turkey\",\"BLT\"]\n",
    "finished_sandwiches=[]\n",
    "while sandwich_orders:\n",
    "    current_sandwich=sandwich_orders.pop()\n",
    "    print(\"I'm working on your sandwich: \", current_sandwich.title()+\"Sandwich\")\n",
    "    finished_sandwiches.append(current_sandwich)\n",
    "\n",
    "print(\"The following sanwiches have been completed: \")\n",
    "for sandwich in finished_sandwiches:\n",
    "    print('Finished sadnwich: ', finished_sandwiches)\n"
   ]
  },
  {
   "cell_type": "code",
   "execution_count": null,
   "metadata": {},
   "outputs": [],
   "source": []
  },
  {
   "cell_type": "markdown",
   "metadata": {},
   "source": [
    "## Write a program to print n natural number in descending order using a while loop.\n"
   ]
  },
  {
   "cell_type": "code",
   "execution_count": 15,
   "metadata": {},
   "outputs": [
    {
     "name": "stdout",
     "output_type": "stream",
     "text": [
      "Enter the range: 20\n",
      "20\n",
      "19\n",
      "18\n",
      "17\n",
      "16\n",
      "15\n",
      "14\n",
      "13\n",
      "12\n",
      "11\n",
      "10\n",
      "9\n",
      "8\n",
      "7\n",
      "6\n",
      "5\n",
      "4\n",
      "3\n",
      "2\n",
      "1\n"
     ]
    }
   ],
   "source": [
    "n= int(input(\"Enter the range: \"))\n",
    "while(n!=0):\n",
    "    print(n)\n",
    "    n=n-1"
   ]
  },
  {
   "cell_type": "code",
   "execution_count": null,
   "metadata": {},
   "outputs": [],
   "source": []
  },
  {
   "cell_type": "markdown",
   "metadata": {},
   "source": [
    "## Factorial of a number"
   ]
  },
  {
   "cell_type": "code",
   "execution_count": 1,
   "metadata": {},
   "outputs": [
    {
     "name": "stdout",
     "output_type": "stream",
     "text": [
      "Enter a number: 10\n",
      "3628800\n"
     ]
    }
   ],
   "source": [
    "n=int(input(\"Enter a number: \"))\n",
    "fact=1\n",
    "while(n):\n",
    "    fact=fact*n\n",
    "    n=n-1\n",
    "print(fact)"
   ]
  },
  {
   "cell_type": "code",
   "execution_count": null,
   "metadata": {},
   "outputs": [],
   "source": []
  },
  {
   "cell_type": "markdown",
   "metadata": {},
   "source": [
    "## Take 10 integers from keyboard using loop and print their sum and average value on the screen"
   ]
  },
  {
   "cell_type": "code",
   "execution_count": 2,
   "metadata": {},
   "outputs": [
    {
     "name": "stdout",
     "output_type": "stream",
     "text": [
      "Enter a number: 1\n",
      "Enter a number: 2\n",
      "Enter a number: 3\n",
      "Enter a number: 4\n",
      "Enter a number: 5\n",
      "Enter a number: 6\n",
      "Enter a number: 7\n",
      "Enter a number: 8\n",
      "Enter a number: 9\n",
      "Enter a number: 10\n",
      "The average is:  5.5\n"
     ]
    }
   ],
   "source": [
    "sum=0\n",
    "i=1\n",
    "while i<11:\n",
    "    num=int(input(\"Enter a number: \"))\n",
    "    sum=sum+num \n",
    "    i=i+1\n",
    "print(\"The average is: \", sum/10)"
   ]
  },
  {
   "cell_type": "markdown",
   "metadata": {},
   "source": [
    "### Take 5 integers and multiply them "
   ]
  },
  {
   "cell_type": "code",
   "execution_count": 5,
   "metadata": {},
   "outputs": [
    {
     "name": "stdout",
     "output_type": "stream",
     "text": [
      "Enter a number: 4\n",
      "Enter a number: 5\n",
      "Enter a number: 6\n",
      "Enter a number: 7\n",
      "Enter a number: 8\n",
      "6720\n"
     ]
    }
   ],
   "source": [
    "q=1 \n",
    "i=1\n",
    "while i < 6:\n",
    "    num=int(input(\"Enter a number: \"))\n",
    "    q= q*num\n",
    "    i=i+1\n",
    "print(q)\n",
    "    "
   ]
  },
  {
   "cell_type": "code",
   "execution_count": null,
   "metadata": {},
   "outputs": [],
   "source": []
  },
  {
   "attachments": {
    "image.png": {
     "image/png": "[encoded data removed]"
    }
   },
   "cell_type": "markdown",
   "metadata": {},
   "source": [
    "## Print the following patterns using loop :\n",
    "![image.png](attachment:image.png)"
   ]
  },
  {
   "cell_type": "code",
   "execution_count": 16,
   "metadata": {},
   "outputs": [
    {
     "name": "stdout",
     "output_type": "stream",
     "text": [
      "*\n",
      "**\n",
      "***\n",
      "****\n"
     ]
    }
   ],
   "source": [
    "i=1\n",
    "while i<=4:\n",
    "    print(i*\"*\")\n",
    "    i=i+1"
   ]
  },
  {
   "cell_type": "code",
   "execution_count": null,
   "metadata": {},
   "outputs": [],
   "source": []
  },
  {
   "cell_type": "markdown",
   "metadata": {},
   "source": [
    "## Write a program to display the first 7 multiples of 7.\n"
   ]
  },
  {
   "cell_type": "code",
   "execution_count": 18,
   "metadata": {},
   "outputs": [
    {
     "name": "stdout",
     "output_type": "stream",
     "text": [
      "0 7 14 21 28 35 42 49 "
     ]
    }
   ],
   "source": [
    "count=0\n",
    "for i in range(200):\n",
    "    if i%7==0:\n",
    "        print(i,end=\" \")\n",
    "        count=count+1\n",
    "        if count==8:\n",
    "            break"
   ]
  },
  {
   "cell_type": "code",
   "execution_count": null,
   "metadata": {},
   "outputs": [],
   "source": []
  },
  {
   "cell_type": "markdown",
   "metadata": {},
   "source": [
    "## Write a program that appends the square of each number to a new list."
   ]
  },
  {
   "cell_type": "code",
   "execution_count": 6,
   "metadata": {},
   "outputs": [
    {
     "name": "stdout",
     "output_type": "stream",
     "text": [
      "The result is:  [4, 9, 16, 25, 36, 49]\n"
     ]
    }
   ],
   "source": [
    "x=[2,3,4,5,6,7]\n",
    "z=[]\n",
    "for i in range(len(x)):\n",
    "    z.append(x[i]**2)\n",
    "print(\"The result is: \", z)"
   ]
  },
  {
   "cell_type": "code",
   "execution_count": null,
   "metadata": {},
   "outputs": [],
   "source": []
  },
  {
   "cell_type": "markdown",
   "metadata": {},
   "source": [
    "## Separate positive and negative number from a list.\n",
    "x = [23,12,-4,23,-9,21,3,-45,-8]"
   ]
  },
  {
   "cell_type": "code",
   "execution_count": 19,
   "metadata": {},
   "outputs": [
    {
     "name": "stdout",
     "output_type": "stream",
     "text": [
      "Positive numbers:  [23, 12, 23, 21, 3]\n",
      "Negative numbers:  [-4, -9, -45, -8]\n"
     ]
    }
   ],
   "source": [
    "x = [23,12,-4,23,-9,21,3,-45,-8]\n",
    "pos=[]\n",
    "neg=[]\n",
    "for i in range(len(x)): #length of the list \n",
    "    if x[i]<0:\n",
    "        neg.append(x[i])\n",
    "    else:\n",
    "        pos.append(x[i])\n",
    "    \n",
    "print(\"Positive numbers: \", pos)\n",
    "print(\"Negative numbers: \", neg)\n",
    "    "
   ]
  },
  {
   "cell_type": "code",
   "execution_count": null,
   "metadata": {},
   "outputs": [],
   "source": []
  }
 ],
 "metadata": {
  "celltoolbar": "Slideshow",
  "kernelspec": {
   "display_name": "Python 3 (ipykernel)",
   "language": "python",
   "name": "python3"
  },
  "language_info": {
   "codemirror_mode": {
    "name": "ipython",
    "version": 3
   },
   "file_extension": ".py",
   "mimetype": "text/x-python",
   "name": "python",
   "nbconvert_exporter": "python",
   "pygments_lexer": "ipython3",
   "version": "3.9.12"
  }
 },
 "nbformat": 4,
 "nbformat_minor": 2
}
