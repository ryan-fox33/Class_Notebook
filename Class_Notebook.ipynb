{
 "cells": [
  {
   "cell_type": "markdown",
   "id": "4ef4485e",
   "metadata": {},
   "source": [
    "# Ch9 Classes"
   ]
  },
  {
   "cell_type": "markdown",
   "id": "7b465366",
   "metadata": {},
   "source": [
    "### Python is an object oriented programming language.\n",
    "- Almost everything in Python is an object, with its properties and methods (Functions).\n",
    "- A Class is like an object constructor, or a \"blueprint\" for creating objects."
   ]
  },
  {
   "cell_type": "code",
   "execution_count": 1,
   "id": "741b88de",
   "metadata": {},
   "outputs": [
    {
     "name": "stdout",
     "output_type": "stream",
     "text": [
      "Angel\n",
      "Hill\n",
      "Employee full name : Angel Hill\n",
      "Employee full name : Peter Griffin\n"
     ]
    }
   ],
   "source": [
    "class Employee():\n",
    "    # init is the constructor of the class \n",
    "    #self is used to represent the instance of a class \n",
    "    def __init__(self, first, last, age, department): #method/function\n",
    "        self.first=first.title()\n",
    "        self.last=last.title()\n",
    "        self.age=age\n",
    "        self.department=department.title()\n",
    "        \n",
    "    def fullname(self):\n",
    "        return f\"Employee full name : {self.first} {self.last}\"\n",
    "        \n",
    "        \n",
    "        \n",
    "emp_1=Employee(\"Angel\", \"hill\", 32, \"accounting\")\n",
    "emp_2=Employee(\"peter\", \"griffin\", 35, \"finance\")\n",
    "print(emp_1.first)\n",
    "print(emp_1.last)\n",
    "#print(f\"Employee full name : {emp_1.first} {emp_1.last}\")\n",
    "print(emp_1.fullname())\n",
    "print(emp_2.fullname())"
   ]
  },
  {
   "cell_type": "code",
   "execution_count": null,
   "id": "a9136cf8",
   "metadata": {},
   "outputs": [],
   "source": []
  },
  {
   "cell_type": "markdown",
   "id": "5d60f7c0",
   "metadata": {},
   "source": [
    "### Creating the Dog Class\n",
    "Each instance created from the Dog class will store a name and an age, and we’ll give each dog the ability to sit() and roll_over():"
   ]
  },
  {
   "cell_type": "code",
   "execution_count": 2,
   "id": "6e84155c",
   "metadata": {},
   "outputs": [],
   "source": [
    "class Dog():\n",
    "    def __init__(self, name, age):\n",
    "        self.name=name\n",
    "        self.age=age\n",
    "        \n",
    "        \n",
    "    def sit(self):\n",
    "        print(f\"{self.name} is now sitting\")\n",
    "        \n",
    "    def rollover(self):\n",
    "        print(f\"{self.name} is now rolling over\")\n",
    "        \n"
   ]
  },
  {
   "cell_type": "code",
   "execution_count": 3,
   "id": "3c70e9c0",
   "metadata": {},
   "outputs": [
    {
     "name": "stdout",
     "output_type": "stream",
     "text": [
      "Cookie\n",
      "12\n",
      "Andy\n",
      "15\n",
      "Cookie is now sitting\n",
      "Andy is now rolling over\n"
     ]
    }
   ],
   "source": [
    "dog1=Dog(\"Cookie\", 12)\n",
    "dog2=Dog(\"Andy\", 15)\n",
    "\n",
    "print(dog1.name)\n",
    "print(dog1.age)\n",
    "print(dog2.name)\n",
    "print(dog2.age)\n",
    "dog1.sit()\n",
    "dog2.rollover()"
   ]
  },
  {
   "cell_type": "code",
   "execution_count": null,
   "id": "26bbbc31",
   "metadata": {},
   "outputs": [],
   "source": []
  },
  {
   "cell_type": "markdown",
   "id": "8bbcc5c0",
   "metadata": {},
   "source": [
    "#### Note:\n",
    "- By convention, capitalized names refer to classes in Python. \n",
    "- The parentheses in the class definition are empty because we’re creating this class from scratch.\n",
    "- All classes have a function called __init__(), which is always executed when the class is being initiated.\n",
    "- Use the __init__() function to assign values to object properties, or other operations that are necessary to do when the object is being created\n",
    "- Any variable prefixed with `self` is available to every method in the class, and we’ll also be able to access these variables through any instance created from the class.\n",
    "- The Dog class has two other methods defined: sit() and roll_over().Because these methods don’t need additional information like a name or age, we just define them to have one parameter, self."
   ]
  },
  {
   "cell_type": "markdown",
   "id": "402f0696",
   "metadata": {},
   "source": [
    "### Restaurant: Make a class called Restaurant. The __init__() method for Restaurant should store two attributes: a restaurant_name and a cuisine_type.\n",
    "- Make a method called `describe_restaurant()` that prints name of teh restrurent and the cuisine type\n",
    "- and a method called open_restaurant() that prints a message indicating that the restaurant is open.\n",
    "- Make an instance called restaurant from your class. Print the two attributes individually, and then call both methods.\n"
   ]
  },
  {
   "cell_type": "code",
   "execution_count": 4,
   "id": "c4316b2d",
   "metadata": {},
   "outputs": [],
   "source": [
    "class restaurant():\n",
    "    def __init__(self, name, cuisine):\n",
    "        self.name=name\n",
    "        self.cuisine=cuisine\n",
    "        \n",
    "    def describe_restaurant(self):\n",
    "        print(f\"{self.name} is a resturant that serves {self.cuisine}\")\n",
    "        \n",
    "    def open_restaurant(self):\n",
    "        print(f\"{self.name} is open for business\")\n",
    "    \n",
    "        "
   ]
  },
  {
   "cell_type": "code",
   "execution_count": 5,
   "id": "f9be3f46",
   "metadata": {},
   "outputs": [
    {
     "name": "stdout",
     "output_type": "stream",
     "text": [
      "Ruth's Chris is a resturant that serves Steak and Seafood\n",
      "Ruth's Chris is open for business\n",
      "La Suerte is a resturant that serves Authenthic Mexican food\n",
      "La Suerte is open for business\n"
     ]
    }
   ],
   "source": [
    "rest1=restaurant(\"Ruth's Chris\", \"Steak and Seafood\")\n",
    "rest2=restaurant(\"La Suerte\", \"Authenthic Mexican food\")\n",
    "\n",
    "rest1.describe_restaurant()\n",
    "rest1.open_restaurant()\n",
    "rest2.describe_restaurant()\n",
    "rest2.open_restaurant()"
   ]
  },
  {
   "cell_type": "markdown",
   "id": "8b4a4fca",
   "metadata": {},
   "source": [
    "### - Create three different instances from the class, and call describe_restaurant() for each instance."
   ]
  },
  {
   "cell_type": "code",
   "execution_count": 6,
   "id": "b3845fe0",
   "metadata": {},
   "outputs": [
    {
     "name": "stdout",
     "output_type": "stream",
     "text": [
      "Ruth's Chris is a resturant that serves Steak and Seafood\n",
      "La Suerte is a resturant that serves Authenthic Mexican food\n",
      "Chick-fil-a is a resturant that serves Chicken Sandwiches\n"
     ]
    }
   ],
   "source": [
    "rest1=restaurant(\"Ruth's Chris\", \"Steak and Seafood\")\n",
    "rest2=restaurant(\"La Suerte\", \"Authenthic Mexican food\")\n",
    "rest3=restaurant(\"Chick-fil-a\", \"Chicken Sandwiches\")\n",
    "rest1.describe_restaurant()\n",
    "rest2.describe_restaurant()\n",
    "rest3.describe_restaurant()\n",
    "\n"
   ]
  },
  {
   "cell_type": "code",
   "execution_count": null,
   "id": "e6aa8a33",
   "metadata": {},
   "outputs": [],
   "source": []
  },
  {
   "cell_type": "code",
   "execution_count": null,
   "id": "6b24e6f1",
   "metadata": {},
   "outputs": [],
   "source": []
  },
  {
   "cell_type": "markdown",
   "id": "8f4032c6",
   "metadata": {},
   "source": [
    "### Users: Make a class called User. Create attributes called first_name and last_name, username, location \n",
    "- Make a method called describe_user() that prints a summary of the user’s information. \n",
    "- Make another method called greet_user() that prints a personalized greeting to the user.\n",
    "- Create several instances representing different users, and call both methods for each user."
   ]
  },
  {
   "cell_type": "code",
   "execution_count": 7,
   "id": "dda94ce2",
   "metadata": {},
   "outputs": [],
   "source": [
    "class user():\n",
    "    def __init__(self, first, last, username, location):\n",
    "        self.first=first.title\n",
    "        self.last=last.title\n",
    "        self.username=username\n",
    "        self.location=location.title\n",
    "        \n",
    "    def desc_user(self):\n",
    "        print(f\"Username: {self.username}\")\n",
    "        print(f\"{self.first} {self.last} from {self.location}\")\n",
    "        \n",
    "    def greet_user(self):\n",
    "        print(f\"Welcome back, {self.username}!\")"
   ]
  },
  {
   "cell_type": "code",
   "execution_count": 8,
   "id": "8864d617",
   "metadata": {},
   "outputs": [
    {
     "name": "stdout",
     "output_type": "stream",
     "text": [
      "Username: G_clooney1\n",
      "<built-in method title of str object at 0x000001AAA4728130> <built-in method title of str object at 0x000001AAA472A370> from <built-in method title of str object at 0x000001AAA472A530>\n",
      "Welcome back, G_clooney1!\n"
     ]
    }
   ],
   "source": [
    "george= user('George', 'clooney', 'G_clooney1', \"Georgia\")\n",
    "george.desc_user()\n",
    "george.greet_user()"
   ]
  },
  {
   "cell_type": "markdown",
   "id": "8b5bfff2",
   "metadata": {},
   "source": [
    "## Setting a Default Value for an Attribute"
   ]
  },
  {
   "cell_type": "code",
   "execution_count": 9,
   "id": "bbdc7a10",
   "metadata": {},
   "outputs": [],
   "source": [
    "class car():\n",
    "    def __init__(self, make, model, year):\n",
    "        self.make=make\n",
    "        self.model=model\n",
    "        self.year=year\n",
    "        self.odometer_reading=0\n",
    "        \n",
    "    def get_description(self):\n",
    "        long_name= str(self.year)+ \" \" + self.make + \" \" + self.model\n",
    "        return long_name.title()\n",
    "    \n",
    "    def read_odometer(self):\n",
    "        print(f\"This car has {self.odometer_reading} miles on it.\")\n",
    "        \n",
    "    def update_odometer(self, mileage):\n",
    "        self.odometer_reading=mileage"
   ]
  },
  {
   "cell_type": "code",
   "execution_count": 17,
   "id": "35859896",
   "metadata": {},
   "outputs": [
    {
     "name": "stdout",
     "output_type": "stream",
     "text": [
      "This car has 0 miles on it.\n"
     ]
    }
   ],
   "source": [
    "my_car=car(\"Nissan\", \"Altima\", 2014)\n",
    "my_car.get_description()\n",
    "my_car.read_odometer()"
   ]
  },
  {
   "cell_type": "code",
   "execution_count": null,
   "id": "fd075bf5",
   "metadata": {},
   "outputs": [],
   "source": [
    "my_car.update_odometer(40)"
   ]
  },
  {
   "cell_type": "markdown",
   "id": "3f840f3e",
   "metadata": {},
   "source": [
    "#### Modifying an Attribute’s Value Directly"
   ]
  },
  {
   "cell_type": "code",
   "execution_count": null,
   "id": "840df9cb",
   "metadata": {},
   "outputs": [],
   "source": []
  },
  {
   "cell_type": "code",
   "execution_count": null,
   "id": "6f8fa540",
   "metadata": {},
   "outputs": [],
   "source": []
  },
  {
   "cell_type": "code",
   "execution_count": null,
   "id": "2f382418",
   "metadata": {},
   "outputs": [],
   "source": []
  },
  {
   "cell_type": "markdown",
   "id": "27f8f244",
   "metadata": {},
   "source": [
    "### Modifying an Attribute’s Value Through a Method"
   ]
  },
  {
   "cell_type": "code",
   "execution_count": null,
   "id": "9b3ae956",
   "metadata": {},
   "outputs": [],
   "source": []
  },
  {
   "cell_type": "code",
   "execution_count": null,
   "id": "3c3c57c2",
   "metadata": {},
   "outputs": [],
   "source": []
  },
  {
   "cell_type": "markdown",
   "id": "fd560131",
   "metadata": {},
   "source": [
    "### Incrementing an Attribute’s Value Through a Method"
   ]
  },
  {
   "cell_type": "code",
   "execution_count": null,
   "id": "8d76b884",
   "metadata": {},
   "outputs": [],
   "source": []
  },
  {
   "cell_type": "code",
   "execution_count": null,
   "id": "1500c7e7",
   "metadata": {},
   "outputs": [],
   "source": []
  },
  {
   "cell_type": "markdown",
   "id": "b96f0d18",
   "metadata": {},
   "source": [
    "# Inheritance\n",
    "- You don’t always have to start from scratch when writing a class. If the class you’re writing is a specialized version of another class you wrote, you can use inheritance. \n",
    "- When one class inherits from another, it automatically takes on all the attributes and methods of the first class. The original class is called the `parent class`, and the new class is the `child class`. \n",
    "- The child class inherits every attribute and method from its parent class but is also free to define new attributes and methods of its own."
   ]
  },
  {
   "cell_type": "markdown",
   "id": "90822a83",
   "metadata": {},
   "source": [
    "### Parent Class"
   ]
  },
  {
   "cell_type": "code",
   "execution_count": 14,
   "id": "5b7c3efd",
   "metadata": {},
   "outputs": [],
   "source": [
    "class car():\n",
    "    def __init__(self, make, model, year):\n",
    "        self.make=make\n",
    "        self.model=model\n",
    "        self.year=year\n",
    "        self.odometer_reading=0\n",
    "        \n",
    "    def get_description(self):\n",
    "        long_name= str(self.year)+ \" \" + self.make + \" \" + self.model\n",
    "        return long_name.title()\n",
    "    \n",
    "    def read_odometer(self):\n",
    "        print(f\"This car has {self.odometer_reading} miles on it.\")\n",
    "        \n",
    "    def update_odometer(self, mileage):\n",
    "        self.odometer_reading=mileage"
   ]
  },
  {
   "cell_type": "markdown",
   "id": "67211c37",
   "metadata": {},
   "source": [
    "### Child Class"
   ]
  },
  {
   "cell_type": "code",
   "execution_count": 15,
   "id": "34de9649",
   "metadata": {},
   "outputs": [],
   "source": [
    "class ElectricCar(car):\n",
    "    def __init__(self, make, model, year):\n",
    "        super().__init__(make, model, year) #inherit the parent class attributes"
   ]
  },
  {
   "cell_type": "code",
   "execution_count": 37,
   "id": "f69b4edf",
   "metadata": {},
   "outputs": [
    {
     "name": "stdout",
     "output_type": "stream",
     "text": [
      "2021 Tesla X\n"
     ]
    }
   ],
   "source": [
    "Tesla=ElectricCar(\"Tesla\", \"X\", 2021)\n",
    "print(Tesla.get_description())"
   ]
  },
  {
   "cell_type": "code",
   "execution_count": null,
   "id": "305e5493",
   "metadata": {},
   "outputs": [],
   "source": []
  },
  {
   "cell_type": "markdown",
   "id": "5b594c20",
   "metadata": {},
   "source": [
    "### Practice: Create a class named Person, with firstname and lastname properties, and a printname method:"
   ]
  },
  {
   "cell_type": "code",
   "execution_count": 19,
   "id": "681edaaf",
   "metadata": {},
   "outputs": [],
   "source": [
    "class person():\n",
    "    def __init__(self, first, last):\n",
    "        self.first=first\n",
    "        self.last=last \n",
    "        \n",
    "    def printname(self):\n",
    "        print(f\"Full name : {self.first} {self.last}\")"
   ]
  },
  {
   "cell_type": "code",
   "execution_count": 20,
   "id": "9d3a0e56",
   "metadata": {},
   "outputs": [
    {
     "name": "stdout",
     "output_type": "stream",
     "text": [
      "Full name : John Smith\n"
     ]
    }
   ],
   "source": [
    "person1=person(\"John\", \"Smith\")\n",
    "person1.printname()"
   ]
  },
  {
   "cell_type": "code",
   "execution_count": 21,
   "id": "b75d7a0a",
   "metadata": {},
   "outputs": [
    {
     "name": "stdout",
     "output_type": "stream",
     "text": [
      "Full name : Bailey Korphage\n"
     ]
    }
   ],
   "source": [
    "person2=person(\"Bailey\", \"Korphage\")\n",
    "person2.printname()"
   ]
  },
  {
   "cell_type": "markdown",
   "id": "a8023470",
   "metadata": {},
   "source": [
    "### Create child classes called Student using Inheritance contains the first and last name and the graduation year \n",
    "- Add a method called `welcome` that prints the student graduation year\n",
    "- Test the student method for two students"
   ]
  },
  {
   "cell_type": "code",
   "execution_count": 22,
   "id": "8a1571d5",
   "metadata": {},
   "outputs": [],
   "source": [
    "class Student(person):\n",
    "    def __init__(self, first, last, grad):\n",
    "        super().__init__(first, last)\n",
    "        self.grad=grad\n",
    "    \n",
    "    def welcome(self):\n",
    "        print(f\"Welcome, {self.first} {self.last} to the class of {self.grad}\")\n",
    "        "
   ]
  },
  {
   "cell_type": "code",
   "execution_count": 24,
   "id": "5816f6a4",
   "metadata": {},
   "outputs": [
    {
     "name": "stdout",
     "output_type": "stream",
     "text": [
      "Welcome, Jerry Springer to the class of 2001\n",
      "Welcome, Danny Devito to the class of 1978\n"
     ]
    }
   ],
   "source": [
    "student1=Student(\"Jerry\", \"Springer\", 2001)\n",
    "student2=Student(\"Danny\", \"Devito\", 1978)\n",
    "student1.welcome()\n",
    "student2.welcome()"
   ]
  },
  {
   "cell_type": "markdown",
   "id": "8588d302",
   "metadata": {},
   "source": [
    "### Create rectangle (length and width) classes and square (length) classes for calculating area and perimeter "
   ]
  },
  {
   "cell_type": "code",
   "execution_count": 31,
   "id": "618eeec7",
   "metadata": {},
   "outputs": [],
   "source": [
    "class rectangle():\n",
    "    def __init__(self, length, width):\n",
    "        self.length=length\n",
    "        self.width=width\n",
    "   \n",
    "    def area_rect(self):\n",
    "        return(self.length*self.width)\n",
    "        \n",
    "    def peri_rect(self):\n",
    "        return(2*(self.length + self.width))\n",
    "\n",
    "class square():\n",
    "    def __init__(self, length):\n",
    "        self.length=length\n",
    "        \n",
    "    def area_sq(self):\n",
    "        return(self.length**2)\n",
    "        \n",
    "    def peri_sq(self):\n",
    "        return(self.length*4)    \n",
    "    "
   ]
  },
  {
   "cell_type": "code",
   "execution_count": 36,
   "id": "f7b19685",
   "metadata": {},
   "outputs": [
    {
     "name": "stdout",
     "output_type": "stream",
     "text": [
      "30\n",
      "22\n"
     ]
    }
   ],
   "source": [
    "rect1=rectangle(6,5)\n",
    "print(rect1.area_rect())\n",
    "print(rect1.peri_rect())"
   ]
  },
  {
   "cell_type": "code",
   "execution_count": 38,
   "id": "1f6f2357",
   "metadata": {},
   "outputs": [],
   "source": [
    "#Using inheritance \n",
    "class rectangle():\n",
    "    def __init__(self, length, width):\n",
    "        self.length=length\n",
    "        self.width=width\n",
    "   \n",
    "    def area_rect(self):\n",
    "        return(self.length*self.width)\n",
    "        \n",
    "    def peri_rect(self):\n",
    "        return(2*(self.length + self.width))\n",
    "\n",
    "class square1(rectangle):\n",
    "    def __init__(self, length):\n",
    "        super().__init__(length, length)\n",
    "        "
   ]
  },
  {
   "cell_type": "code",
   "execution_count": 40,
   "id": "59a3f9b3",
   "metadata": {},
   "outputs": [
    {
     "name": "stdout",
     "output_type": "stream",
     "text": [
      "25\n",
      "20\n"
     ]
    }
   ],
   "source": [
    "sq1=square1(5)\n",
    "print(sq1.area_rect())\n",
    "print(sq1.peri_rect())"
   ]
  },
  {
   "cell_type": "markdown",
   "id": "3bdcfd1c",
   "metadata": {},
   "source": [
    "## Create a simple calculator using classes"
   ]
  },
  {
   "cell_type": "code",
   "execution_count": null,
   "id": "6ab4b4b1",
   "metadata": {},
   "outputs": [],
   "source": [
    "class calc(): \n",
    "    def __init__(self,input1,input2):\n",
    "        self.input1=input1\n",
    "        self.input2=input2\n",
    "    \n",
    "    def addition(num1, num2):\n",
    "        print(f'Addition= {num1+num2}')\n",
    "    \n",
    "    def subtraction(num1,num2):\n",
    "        print(f'Subtraction = {num1-num2}')\n",
    "    \n",
    "    def multiplication(num1,num2):\n",
    "        print(f'Multiplication= {num1*num2}')\n",
    "\n",
    "    def division(num1,num2):\n",
    "        print(f'Division= {num1/num2}')\n",
    "    \n",
    "while True:\n",
    "    print(\"Chose from the following menu: \")\n",
    "    print(\"1. Addition\")\n",
    "    print(\"2. Subtraction\")\n",
    "    print(\"3. Multiplication\")\n",
    "    print(\"4. Division\")\n",
    "    print(\"5. Exit\")\n",
    "    \n",
    "    choice=int(input(\"Enter your choice (1-5)\"))\n",
    "    \n",
    "    if choice==1:\n",
    "        num1=int(input(\"Enter 1st number: \"))\n",
    "        num2=int(input(\"Enter second number: \"))\n",
    "        calc.addition(num1,num2)\n",
    "        \n",
    "    elif choice==2:\n",
    "        num1=int(input(\"Enter 1st Number:\"))\n",
    "        num2=int(input(\"Enter 2nd Number:\"))\n",
    "        calc.subtraction(num1,num2)\n",
    "    \n",
    "    elif choice==3:\n",
    "        num1=int(input(\"Enter 1st Number:\"))\n",
    "        num2=int(input(\"Enter 2nd Number:\"))\n",
    "        calc.multiplication(num1,num2)\n",
    "    \n",
    "    elif choice==4:\n",
    "        num1=int(input(\"Enter 1st Number:\"))\n",
    "        num2=int(input(\"Enter 2nd Number:\"))\n",
    "        if num2==0:\n",
    "            print(\"Infinity\")\n",
    "        else:\n",
    "            calc.division(num1,num2)\n",
    "            \n",
    "    elif choice==5:\n",
    "        break\n",
    "    else:\n",
    "        print(\"Invalid input\")\n"
   ]
  },
  {
   "cell_type": "code",
   "execution_count": null,
   "id": "a7a954a0",
   "metadata": {},
   "outputs": [],
   "source": []
  },
  {
   "cell_type": "code",
   "execution_count": null,
   "id": "39c3dee9",
   "metadata": {},
   "outputs": [],
   "source": []
  },
  {
   "cell_type": "markdown",
   "id": "0ec161b5",
   "metadata": {},
   "source": [
    "## ATM machine "
   ]
  },
  {
   "cell_type": "code",
   "execution_count": null,
   "id": "267c3e25",
   "metadata": {},
   "outputs": [],
   "source": [
    "class ATM():\n",
    "    def __init__(self):\n",
    "        self.balance=0\n",
    "        print(\"Hello! Welcome to the ATM\")\n",
    "    \n",
    "    def deposit(self):\n",
    "        amount=float(input(\"Enter the amount you would like to deposit: \"))\n",
    "        self.balance+=amount\n",
    "        print(\"The amount deposited: \", amount)\n",
    "        \n",
    "    def withdrawal(self): \n",
    "        amount2=float(input(\"Enter the amount you would like to withdrawal: \"))\n",
    "        if self.balance>=amount:\n",
    "            self.balance-=amount\n",
    "            print(\"Amount withdrawn: \", amount)\n",
    "        else:\n",
    "            print(\"Insufficient balance\")\n",
    "    \n",
    "    def display(self):\n",
    "        print(\"The available balance is:\", self.balance)"
   ]
  },
  {
   "cell_type": "code",
   "execution_count": null,
   "id": "a6e40459",
   "metadata": {},
   "outputs": [],
   "source": [
    "my_account= ATM()\n",
    "my_account.deposit()"
   ]
  },
  {
   "cell_type": "code",
   "execution_count": null,
   "id": "5349965d",
   "metadata": {},
   "outputs": [],
   "source": [
    "my_account.deposit()\n",
    "my_account.display()"
   ]
  },
  {
   "cell_type": "code",
   "execution_count": null,
   "id": "d52da1c8",
   "metadata": {},
   "outputs": [],
   "source": []
  }
 ],
 "metadata": {
  "kernelspec": {
   "display_name": "Python 3 (ipykernel)",
   "language": "python",
   "name": "python3"
  },
  "language_info": {
   "codemirror_mode": {
    "name": "ipython",
    "version": 3
   },
   "file_extension": ".py",
   "mimetype": "text/x-python",
   "name": "python",
   "nbconvert_exporter": "python",
   "pygments_lexer": "ipython3",
   "version": "3.9.12"
  }
 },
 "nbformat": 4,
 "nbformat_minor": 5
}
